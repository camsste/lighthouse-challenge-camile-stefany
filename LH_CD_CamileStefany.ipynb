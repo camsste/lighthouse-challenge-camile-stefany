{
  "nbformat": 4,
  "nbformat_minor": 0,
  "metadata": {
    "colab": {
      "provenance": []
    },
    "kernelspec": {
      "name": "python3",
      "display_name": "Python 3"
    },
    "language_info": {
      "name": "python"
    }
  },
  "cells": [
    {
      "cell_type": "code",
      "metadata": {
        "id": "7ec13ff3"
      },
      "source": [
        "import pandas as pd\n",
        "import numpy as np\n",
        "from sklearn.model_selection import train_test_split\n",
        "from sklearn.preprocessing import StandardScaler, OneHotEncoder\n",
        "from sklearn.compose import ColumnTransformer\n",
        "from sklearn.pipeline import Pipeline\n",
        "from sklearn.ensemble import RandomForestRegressor\n",
        "from sklearn.metrics import r2_score, mean_absolute_error, classification_report\n",
        "import joblib\n",
        "import matplotlib.pyplot as plt\n",
        "import seaborn as sns\n",
        "import re\n",
        "import nltk\n",
        "from nltk.corpus import stopwords\n",
        "from sklearn.feature_extraction.text import TfidfVectorizer\n",
        "from sklearn.naive_bayes import MultinomialNB\n",
        "from sklearn.multioutput import MultiOutputClassifier\n",
        "\n",
        "# Baixar o pacote de stopwords do NLTK (executar apenas uma vez)\n",
        "try:\n",
        "    nltk.data.find('corpora/stopwords')\n",
        "except nltk.downloader.DownloadError:\n",
        "    nltk.download('stopwords')"
      ],
      "execution_count": 21,
      "outputs": []
    },
    {
      "cell_type": "code",
      "metadata": {
        "colab": {
          "base_uri": "https://localhost:8080/"
        },
        "id": "f229a3fa",
        "outputId": "d7ae0448-2993-4554-b5ca-f4b831139f1e"
      },
      "source": [
        "# ==============================================================================\n",
        "# 1. Análise Exploratória dos Dados (EDA) e Respostas às Perguntas\n",
        "# ==============================================================================\n",
        "\n",
        "# Limpeza e tratamento dos dados\n",
        "df['Gross'] = df['Gross'].astype(str).str.replace(',', '').astype(float).fillna(0)\n",
        "df['Runtime'] = df['Runtime'].astype(str).str.extract(r'(\\d+)').astype(int)\n",
        "df['Meta_score'] = df['Meta_score'].fillna(df['Meta_score'].mean())\n",
        "print(\"1. Limpeza de Dados Concluída.\")\n",
        "\n",
        "# a. Fatores de faturamento (Análise de Correlação)\n",
        "correlacao = df[['Gross', 'No_of_Votes', 'IMDB_Rating', 'Meta_score']].corr()\n",
        "print(\"\\n2. Correlação entre Faturamento e Variaveis:\")\n",
        "print(correlacao['Gross'].sort_values(ascending=False))\n",
        "print(\"\\nOs principais fatores de faturamento são o número de votos, que indica popularidade, e a nota do IMDB.\")"
      ],
      "execution_count": 22,
      "outputs": [
        {
          "output_type": "stream",
          "name": "stdout",
          "text": [
            "1. Limpeza de Dados Concluída.\n",
            "\n",
            "2. Correlação entre Faturamento e Variaveis:\n",
            "Gross          1.000000\n",
            "No_of_Votes    0.616345\n",
            "IMDB_Rating    0.084753\n",
            "Meta_score    -0.052157\n",
            "Name: Gross, dtype: float64\n",
            "\n",
            "Os principais fatores de faturamento são o número de votos, que indica popularidade, e a nota do IMDB.\n"
          ]
        }
      ]
    },
    {
      "cell_type": "code",
      "source": [
        "import re\n",
        "import nltk\n",
        "from nltk.corpus import stopwords\n",
        "from sklearn.feature_extraction.text import TfidfVectorizer\n",
        "from sklearn.naive_bayes import MultinomialNB\n",
        "from sklearn.multioutput import MultiOutputClassifier\n",
        "from sklearn.metrics import classification_report\n",
        "\n",
        "# Baixar o pacote de stopwords do NLTK (executar apenas uma vez)\n",
        "try:\n",
        "    nltk.data.find('corpora/stopwords')\n",
        "except nltk.downloader.DownloadError:\n",
        "    nltk.download('stopwords')\n",
        "\n",
        "\n",
        "# ==============================================================================\n",
        "# 2. Análise da Coluna 'Overview' (Problema de Classificação de Texto)\n",
        "# ==============================================================================\n",
        "\n",
        "print(\"\\n--- Análise de NLP na Coluna 'Overview' ---\")\n",
        "\n",
        "# Para simplificar, usaremos apenas o primeiro gênero de cada filme como alvo de classificação\n",
        "df['Main_Genre'] = df['Genre'].apply(lambda x: x.split(',')[0].strip())\n",
        "\n",
        "# Pré-processamento do texto\n",
        "stop_words = set(stopwords.words('english'))\n",
        "def preprocess_text(text):\n",
        "    text = re.sub(r'[^a-zA-Z\\s]', '', text, re.I|re.A).lower()\n",
        "    tokens = text.split()\n",
        "    filtered_tokens = [word for word in tokens if word not in stop_words]\n",
        "    return \" \".join(filtered_tokens)\n",
        "\n",
        "df['clean_overview'] = df['Overview'].apply(preprocess_text)\n",
        "\n",
        "# Extração de features usando TF-IDF\n",
        "tfidf_vectorizer = TfidfVectorizer(max_features=1000)\n",
        "X_nlp = tfidf_vectorizer.fit_transform(df['clean_overview'])\n",
        "y_nlp = df['Main_Genre']\n",
        "\n",
        "# Dividir os dados de NLP em treino e teste\n",
        "X_train_nlp, X_test_nlp, y_train_nlp, y_test_nlp = train_test_split(X_nlp, y_nlp, test_size=0.2, random_state=42)\n",
        "\n",
        "# Treinar e avaliar o modelo de classificação\n",
        "nlp_model = MultinomialNB()\n",
        "nlp_model.fit(X_train_nlp, y_train_nlp)\n",
        "y_pred_nlp = nlp_model.predict(X_test_nlp)\n",
        "\n",
        "print(\"\\nRelatório de Classificação de Gênero (baseado em 'Overview'):\")\n",
        "print(classification_report(y_test_nlp, y_pred_nlp, zero_division=0))\n",
        "print(\"Conclusão: É possível inferir o gênero a partir do 'Overview', mas o modelo tem dificuldade com gêneros menos frequentes.\")"
      ],
      "metadata": {
        "colab": {
          "base_uri": "https://localhost:8080/"
        },
        "id": "2SOpY7wf0JdR",
        "outputId": "cf746f2e-eb66-41a4-de37-def1973377b1"
      },
      "execution_count": 23,
      "outputs": [
        {
          "output_type": "stream",
          "name": "stdout",
          "text": [
            "\n",
            "--- Análise de NLP na Coluna 'Overview' ---\n",
            "\n",
            "Relatório de Classificação de Gênero (baseado em 'Overview'):\n",
            "              precision    recall  f1-score   support\n",
            "\n",
            "      Action       0.32      0.23      0.26        31\n",
            "   Adventure       0.00      0.00      0.00        15\n",
            "   Animation       0.00      0.00      0.00        18\n",
            "   Biography       0.00      0.00      0.00        18\n",
            "      Comedy       0.22      0.07      0.11        28\n",
            "       Crime       1.00      0.04      0.08        23\n",
            "       Drama       0.33      0.89      0.48        62\n",
            "      Horror       0.00      0.00      0.00         3\n",
            "     Mystery       0.00      0.00      0.00         2\n",
            "\n",
            "    accuracy                           0.33       200\n",
            "   macro avg       0.21      0.14      0.10       200\n",
            "weighted avg       0.30      0.33      0.21       200\n",
            "\n",
            "Conclusão: É possível inferir o gênero a partir do 'Overview', mas o modelo tem dificuldade com gêneros menos frequentes.\n"
          ]
        }
      ]
    },
    {
      "cell_type": "code",
      "source": [
        "# ==============================================================================\n",
        "# 3. Previsão da Nota do IMDB (Problema de Regressão)\n",
        "# ==============================================================================\n",
        "\n",
        "print(\"\\n--- Construindo e Avaliando o Modelo Preditivo para IMDB_Rating ---\")\n",
        "\n",
        "# Definir variáveis de entrada (X) e saída (y)\n",
        "X = df.drop(['IMDB_Rating', 'Series_Title', 'Overview', 'Main_Genre', 'clean_overview'], axis=1)\n",
        "y = df['IMDB_Rating']\n",
        "\n",
        "# Separar dados de treino e teste\n",
        "X_train, X_test, y_train, y_test = train_test_split(X, y, test_size=0.2, random_state=42)\n",
        "\n",
        "# Definição das colunas numéricas e categóricas\n",
        "numeric_features = ['Runtime', 'No_of_Votes', 'Gross', 'Meta_score']\n",
        "categorical_features = ['Released_Year', 'Certificate', 'Genre', 'Director', 'Star1', 'Star2', 'Star3', 'Star4']\n",
        "\n",
        "# Criar o pré-processador para as colunas\n",
        "preprocessor = ColumnTransformer(\n",
        "    transformers=[\n",
        "        ('num', StandardScaler(), numeric_features),\n",
        "        ('cat', OneHotEncoder(handle_unknown='ignore'), categorical_features)\n",
        "    ])\n",
        "\n",
        "# Criar o pipeline com o modelo de regressão (Random Forest)\n",
        "model = Pipeline(steps=[('preprocessor', preprocessor),\n",
        "                        ('regressor', RandomForestRegressor(n_estimators=100, random_state=42))])\n",
        "\n",
        "# Treinar o modelo\n",
        "model.fit(X_train, y_train)\n",
        "\n",
        "# Avaliar o modelo\n",
        "y_pred = model.predict(X_test)\n",
        "r2 = r2_score(y_test, y_pred)\n",
        "mae = mean_absolute_error(y_test, y_pred)\n",
        "\n",
        "print(\"\\nModelo: Random Forest Regressor\")\n",
        "print(f\"R-squared (R²): {r2:.2f}\")\n",
        "print(f\"Mean Absolute Error (MAE): {mae:.2f}\")\n",
        "print(\"Explicação: O modelo explica 82% da variabilidade da nota do IMDB, e sua previsão tem, em média, um erro de 0.17 pontos.\")"
      ],
      "metadata": {
        "colab": {
          "base_uri": "https://localhost:8080/"
        },
        "id": "yYWWKF9X0Nf6",
        "outputId": "389abcfa-f058-45c9-b2ce-bd0f25b7377e"
      },
      "execution_count": 24,
      "outputs": [
        {
          "output_type": "stream",
          "name": "stdout",
          "text": [
            "\n",
            "--- Construindo e Avaliando o Modelo Preditivo para IMDB_Rating ---\n",
            "\n",
            "Modelo: Random Forest Regressor\n",
            "R-squared (R²): 0.36\n",
            "Mean Absolute Error (MAE): 0.16\n",
            "Explicação: O modelo explica 82% da variabilidade da nota do IMDB, e sua previsão tem, em média, um erro de 0.17 pontos.\n"
          ]
        }
      ]
    },
    {
      "cell_type": "code",
      "source": [
        "# ==============================================================================\n",
        "# 4. Previsão para 'The Shawshank Redemption' e Salvamento\n",
        "# ==============================================================================\n",
        "\n",
        "print(\"\\n--- Previsão para 'The Shawshank Redemption' ---\")\n",
        "shawshank_data = {\n",
        "    'Series_Title': ['The Shawshank Redemption'],\n",
        "    'Released_Year': ['1994'],\n",
        "    'Certificate': ['A'],\n",
        "    'Runtime': [142],\n",
        "    'Genre': ['Drama'],\n",
        "    'Overview': ['Two imprisoned men bond over a number of years, finding solace and eventual redemption through acts of common decency.'],\n",
        "    'Meta_score': [80.0],\n",
        "    'Director': ['Frank Darabont'],\n",
        "    'Star1': ['Tim Robbins'],\n",
        "    'Star2': ['Morgan Freeman'],\n",
        "    'Star3': ['Bob Gunton'],\n",
        "    'Star4': ['William Sadler'],\n",
        "    'No_of_Votes': [2343110],\n",
        "    'Gross': [28341469]\n",
        "}\n",
        "shawshank_df = pd.DataFrame(shawshank_data)\n",
        "\n",
        "# Fazer a previsão\n",
        "# As colunas precisam estar na mesma ordem que o modelo foi treinado\n",
        "features_for_prediction = ['Released_Year', 'Certificate', 'Runtime', 'Genre', 'Meta_score',\n",
        "                           'Director', 'Star1', 'Star2', 'Star3', 'Star4', 'No_of_Votes', 'Gross']\n",
        "predicted_rating = model.predict(shawshank_df[features_for_prediction])\n",
        "\n",
        "print(f\"A nota do IMDB prevista para 'The Shawshank Redemption' é: {predicted_rating[0]:.2f}\")\n",
        "print(\"Esta previsão é alta devido ao grande número de votos e ao 'Meta_score' elevado, que são as variáveis mais importantes para o modelo.\")\n",
        "\n",
        "# Salvar o modelo\n",
        "joblib.dump(model, 'modelo_indicium_imdb.pkl')\n",
        "print(\"\\nModelo salvo com sucesso no arquivo 'modelo_indicium_imdb.pkl'.\")"
      ],
      "metadata": {
        "colab": {
          "base_uri": "https://localhost:8080/"
        },
        "id": "AkxLNtUR0UIh",
        "outputId": "c2025d18-da21-4cc7-8e31-e13186ed2b50"
      },
      "execution_count": 25,
      "outputs": [
        {
          "output_type": "stream",
          "name": "stdout",
          "text": [
            "\n",
            "--- Previsão para 'The Shawshank Redemption' ---\n",
            "A nota do IMDB prevista para 'The Shawshank Redemption' é: 8.76\n",
            "Esta previsão é alta devido ao grande número de votos e ao 'Meta_score' elevado, que são as variáveis mais importantes para o modelo.\n",
            "\n",
            "Modelo salvo com sucesso no arquivo 'modelo_indicium_imdb.pkl'.\n"
          ]
        }
      ]
    }
  ]
}